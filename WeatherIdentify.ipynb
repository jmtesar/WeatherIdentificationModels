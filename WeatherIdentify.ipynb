{
 "cells": [
  {
   "cell_type": "markdown",
   "id": "cf3c3a20-dfe7-48ca-8db6-ec65f5711b35",
   "metadata": {},
   "source": [
    "## Weather Identification Modelling"
   ]
  },
  {
   "cell_type": "markdown",
   "id": "980746ad-a892-46fb-809a-9d79e9001f1d",
   "metadata": {},
   "source": [
    "### Project Description\n",
    "This project attempts to train a model to predict the weather ocurring in a given image. Using a database from Mendely Data at https://data.mendeley.com/datasets/4drtyfjtfy/1, 1117 pictures of weather were analyzed here. The data consists of weather labelled 'cloudy', 'rain', 'shine', and 'sunrise'. One model uses a k-Nearest Neighbors classification algorithm to determine the images in the test dataset that are most alike to the test image, and gives the test image the label most commonly used by those neighbors. The second model uses Support Vector Classification to create a hyperplane boundary between each category in a many dimensional space, with new images being placed in this space and given the category defined by the boundaries around that point. These models were chosen for their ability to categorize data into multiple labels, as well as a glance at the images in question showed distinct differences to the human eye between categories. Models like these could be used by meteorologists to determine the current weather across many different locations quickly, if the model is accurate enough."
   ]
  },
  {
   "cell_type": "markdown",
   "id": "3b9f932f-5945-44ec-a4db-8498a5a35ab1",
   "metadata": {},
   "source": [
    "#### Data\n",
    "The initial data consists of almost entirely .jpg images, with some .jpeg images and some .png images. The usable images were converted into a list of the RGB values for each pixel, beginning in the top left corner and ending in the bottom right. Then this array was converted into a 1-dimensional array consisting of [R1, G1, B1, R2, G2, B2...] and so on. The images however were of different dimensions, so before the arrays could be generated, each image was resized to share the minimum dimensions across the dataset, which were found to be 94 pixels across and 159 pixels tall. The images used RGB color channels to better convey what weather looks like more accurately. Some weather uses different colors than others, and greyscale images would lose this insight, likely causing a reduction in model accuracy."
   ]
  },
  {
   "cell_type": "markdown",
   "id": "12eff15e-b042-4e0c-8f88-c6efddd6489e",
   "metadata": {},
   "source": [
    "### Data Cleaning\n",
    "The .png images were removed from the data in this project as the pixel information was incompatible, and they were a relatively small portion of the dataset. Each pixel of the .jpg and .jpeg images had three values, one for each RGB channel. The .png images produced only one value. Even still, the remaining images were of different dimensions, so before the arrays could be generated, each image was resized to share the minimum dimensions across the dataset, which were found to be 94 pixels across and 159 pixels tall."
   ]
  },
  {
   "cell_type": "markdown",
   "id": "aef4f08c-cad7-4b47-8dc6-ef1518b8f32d",
   "metadata": {},
   "source": [
    "#### Importing Packages"
   ]
  },
  {
   "cell_type": "code",
   "execution_count": 24,
   "id": "975814ee-0843-433e-95a8-ab401bb00cad",
   "metadata": {},
   "outputs": [],
   "source": [
    "from PIL import Image\n",
    "import glob\n",
    "import os\n",
    "import numpy as np\n",
    "import pandas as pd\n",
    "import sklearn\n",
    "import matplotlib.pyplot as plt            \n",
    "from sklearn.svm import SVC                                \n",
    "from sklearn.model_selection import train_test_split   \n",
    "from sklearn.model_selection import KFold\n",
    "from sklearn.neighbors import KNeighborsClassifier\n",
    "from sklearn import metrics \n",
    "from sklearn.utils import shuffle"
   ]
  },
  {
   "cell_type": "markdown",
   "id": "4bc3be38-1e1d-452b-8a3c-ece29b9c7a96",
   "metadata": {},
   "source": [
    "#### Reading In Images to Numpy Array\n",
    "##### Creating Additional Array for Use in Generating a Label Vector"
   ]
  },
  {
   "cell_type": "code",
   "execution_count": 25,
   "id": "02723cb9-f55c-4a4c-b45f-7d519044c502",
   "metadata": {},
   "outputs": [],
   "source": [
    "image_list = []\n",
    "name_list = []\n",
    "for filename in glob.glob('dataset2/*.jpg'):\n",
    "    im=Image.open(filename, 'r')\n",
    "    name=os.path.basename(filename)\n",
    "    im = im.resize((158, 94))\n",
    "    image_list.append(np.asarray(im))\n",
    "    name_list.append(name)"
   ]
  },
  {
   "cell_type": "markdown",
   "id": "ad5a19d3-6bd9-4d8d-8c7f-342e270f018b",
   "metadata": {},
   "source": [
    "##### Obsolete Code Used to Find Minimum Image Dimensions, Applied Above"
   ]
  },
  {
   "cell_type": "code",
   "execution_count": 26,
   "id": "cd27bf56-f865-4c07-95c9-214e6d641d64",
   "metadata": {},
   "outputs": [],
   "source": [
    "#xs = []\n",
    "#ys = []\n",
    "#for i in image_list:\n",
    "    #xs.append(i.shape[0])\n",
    "    #ys.append(i.shape[1])\n",
    "#print(min(xs), min(ys))\n",
    "#for i in image_list:\n",
    "    #print(i.shape)"
   ]
  },
  {
   "cell_type": "code",
   "execution_count": 27,
   "id": "045c28fd-017a-4d98-8182-ff22ea85bacc",
   "metadata": {},
   "outputs": [
    {
     "name": "stdout",
     "output_type": "stream",
     "text": [
      "1117\n",
      "1117\n"
     ]
    }
   ],
   "source": [
    "print(len(image_list))\n",
    "print(len(name_list))"
   ]
  },
  {
   "cell_type": "markdown",
   "id": "993b44aa-53c2-495c-85a1-d1b141d3ea3a",
   "metadata": {},
   "source": [
    "### EDA: Balance of Labels\n",
    "Here I create the label vector 'classification' and check to make sure there is an even-enough distribution of labels to continue. All four categories show over 200 images, which should be enough to have a strong sample size for each category."
   ]
  },
  {
   "cell_type": "code",
   "execution_count": 28,
   "id": "6942fb48-9c5b-4576-a3ce-501b6d2dece5",
   "metadata": {},
   "outputs": [
    {
     "data": {
      "text/plain": [
       "<AxesSubplot: >"
      ]
     },
     "execution_count": 28,
     "metadata": {},
     "output_type": "execute_result"
    },
    {
     "data": {
      "image/png": "[encoded data removed]",
      "text/plain": [
       "<Figure size 640x480 with 1 Axes>"
      ]
     },
     "metadata": {},
     "output_type": "display_data"
    }
   ],
   "source": [
    "classification = []\n",
    "for i in name_list:\n",
    "    if 'cloudy' in i:\n",
    "        classification.append('cloudy')\n",
    "    elif 'rain' in i:\n",
    "        classification.append('rainy')\n",
    "    elif 'shine' in i:\n",
    "        classification.append('shiny')\n",
    "    elif 'sunrise' in i:\n",
    "        classification.append('sunrise')\n",
    "pd.Series(classification).value_counts().plot(kind='bar')"
   ]
  },
  {
   "cell_type": "markdown",
   "id": "70a6d75c-ab95-4d23-9a2a-54b1e0c1d5dc",
   "metadata": {},
   "source": [
    "##### Flattening the Array\n",
    "This flattens each image array into one single-dimensional array of length width x height x depth, so that each picture can be one observation in our dataframe."
   ]
  },
  {
   "cell_type": "code",
   "execution_count": 29,
   "id": "291e4c7e-6812-4bc5-9ca1-54e7ed30e5f5",
   "metadata": {},
   "outputs": [],
   "source": [
    "colCount = image_list[0].shape[0] * image_list[0].shape[1] * 3\n",
    "for i in range(len(image_list)):\n",
    "    image_list[i] = np.ndarray.flatten(image_list[i]).reshape(colCount, 1)\n",
    "image_list = np.dstack(image_list)\n",
    "image_list = np.rollaxis(image_list, axis = 2, start = 0)\n",
    "image_list = image_list.reshape(len(classification), colCount)"
   ]
  },
  {
   "cell_type": "markdown",
   "id": "c09272ca-08ea-4234-8d92-566bd4e41485",
   "metadata": {},
   "source": [
    "##### Creation of Dataframe\n",
    "The dataframe is created with the label vector added as the final column. Then the data is shuffled, and the y values are set to the final column, with the x values set to everything else."
   ]
  },
  {
   "cell_type": "code",
   "execution_count": 30,
   "id": "a41a4c5d-cb61-4f7d-8d58-300573a63bef",
   "metadata": {},
   "outputs": [
    {
     "name": "stdout",
     "output_type": "stream",
     "text": [
      "        0    1    2    3    4    5    6    7    8    9  ...  44547  44548  \\\n",
      "0     128  128  128  133  133  133  134  134  134  136  ...     53     53   \n",
      "1     169  184  215  165  180  211  169  184  215  167  ...    117    147   \n",
      "2     137  137  149  141  144  157  145  148  164  143  ...     92     78   \n",
      "3     212  209  216  212  209  216  213  210  217  214  ...     20     13   \n",
      "4      81   96  126   80   94  125   77   91  121   76  ...     86     95   \n",
      "...   ...  ...  ...  ...  ...  ...  ...  ...  ...  ...  ...    ...    ...   \n",
      "1112  131   77   16  135   77   18  138   80   16  139  ...      1      1   \n",
      "1113  135   14    1  140   15    1  142   17    1  145  ...     22      2   \n",
      "1114    0    0    0    0    0    0    0    0    0    0  ...      0      0   \n",
      "1115  111   37   11  111   37   11  111   37   11  111  ...     47     27   \n",
      "1116  146   71   31  146   71   32  149   72   33  152  ...     57     32   \n",
      "\n",
      "      44549  44550  44551  44552  44553  44554  44555    label  \n",
      "0        53     54     54     54     54     54     54   cloudy  \n",
      "1       175    115    145    171    114    144    170   cloudy  \n",
      "2        36     88     74     37     93     79     44   cloudy  \n",
      "3         7     19     12      6     19     14      8   cloudy  \n",
      "4       109     67     77     93     65     77     92   cloudy  \n",
      "...     ...    ...    ...    ...    ...    ...    ...      ...  \n",
      "1112      1      1      1      1      1      1      1  sunrise  \n",
      "1113      1     25      4      0     26      3      1  sunrise  \n",
      "1114      0      0      0      0      0      0      0  sunrise  \n",
      "1115     17     46     27     17     45     26     16  sunrise  \n",
      "1116     20     59     32     21     60     32     21  sunrise  \n",
      "\n",
      "[1117 rows x 44557 columns]\n"
     ]
    }
   ],
   "source": [
    "data = pd.DataFrame(image_list)\n",
    "data['label'] = classification\n",
    "print(data)"
   ]
  },
  {
   "cell_type": "code",
   "execution_count": 31,
   "id": "4a0ad438-e6c2-4aea-ae3c-8c57a17e338f",
   "metadata": {},
   "outputs": [],
   "source": [
    "shfl = shuffle(data).reset_index()\n",
    "shfl = shfl.drop(['index'], axis = 1)\n",
    "shfl\n",
    "x = shfl.values[:, :-1]\n",
    "y = shfl.values[:, -1]"
   ]
  },
  {
   "cell_type": "markdown",
   "id": "2faf71c5-9355-41fe-a679-2b80e7f728e5",
   "metadata": {},
   "source": [
    "#### The First Model\n",
    "This is the k-Nearest Neighbors model. It utilizes up to 10 KFold splits and up to 5 neighbors when creating a model for each combination of split count and neighbor count. The best model's accuracy score is returned, along with its parameters."
   ]
  },
  {
   "cell_type": "code",
   "execution_count": 32,
   "id": "9eaebc62-6f50-4c74-b87d-feb8877c3878",
   "metadata": {},
   "outputs": [
    {
     "name": "stdout",
     "output_type": "stream",
     "text": [
      "10% complete.\n",
      "20% complete.\n",
      "30% complete.\n",
      "40% complete.\n",
      "50% complete.\n",
      "60% complete.\n",
      "70% complete.\n",
      "80% complete.\n",
      "90% complete.\n",
      "100% complete.\n",
      "The best model returned an accuracy score of 0.9017857142857143 with 1 neighbor(s) and 3 K-Fold split(s).\n"
     ]
    }
   ],
   "source": [
    "bestScore = 0\n",
    "bestNeighb = 0\n",
    "bestSplit = 0\n",
    "c = 0\n",
    "kf = KFold(n_splits = 10)\n",
    "for train, test in kf.split(x):\n",
    "    c += 1\n",
    "    x_train, x_test = x[train], x[test]\n",
    "    y_train, y_test = y[train], y[test]\n",
    "    for k in range(1, 6):\n",
    "        knn = KNeighborsClassifier(n_neighbors=k)\n",
    "        knn.fit(x_train, y_train)\n",
    "        score = metrics.accuracy_score(y_test, knn.predict(x_test))\n",
    "        if score > bestScore:\n",
    "            bestScore = score\n",
    "            bestNeighb = k\n",
    "            bestSplit = c\n",
    "    print(str(int((c/10) * 100))+\"% complete.\")\n",
    "print(\"The best model returned an accuracy score of \" + str(bestScore) + \" with \" + str(bestNeighb) + \" neighbor(s) and \" + str(bestSplit) + \" K-Fold split(s).\")"
   ]
  },
  {
   "cell_type": "markdown",
   "id": "31d2af50-0b43-469e-84d9-6b80c4abd4be",
   "metadata": {},
   "source": [
    "#### The Second Model\n",
    "This is the Support Vector Machine model. First the data is split with 80% being allocated for the training set and 20% allocated for the test set. The model is created with the default parameters of C = 1.0 and kernel = 'rbf'. This is due to the long wait times for any hyperparameter tuning, even after additional cache was allocated for the test and the model was reduced to a linear prediction. The accuracy score and parameters are produced below."
   ]
  },
  {
   "cell_type": "code",
   "execution_count": 33,
   "id": "0c6013c8-c3be-4886-9143-6a1c4683fd69",
   "metadata": {},
   "outputs": [],
   "source": [
    "x_train, x_test, y_train, y_test = train_test_split(x, y, random_state = 0, test_size = 0.2)\n",
    "svc = SVC(probability=True)"
   ]
  },
  {
   "cell_type": "code",
   "execution_count": 34,
   "id": "97fb4644-bfde-4457-8dbb-e890748e3c51",
   "metadata": {},
   "outputs": [
    {
     "data": {
      "text/html": [
       "<style>#sk-container-id-1 {color: black;background-color: white;}#sk-container-id-1 pre{padding: 0;}#sk-container-id-1 div.sk-toggleable {background-color: white;}#sk-container-id-1 label.sk-toggleable__label {cursor: pointer;display: block;width: 100%;margin-bottom: 0;padding: 0.3em;box-sizing: border-box;text-align: center;}#sk-container-id-1 label.sk-toggleable__label-arrow:before {content: \"▸\";float: left;margin-right: 0.25em;color: #696969;}#sk-container-id-1 label.sk-toggleable__label-arrow:hover:before {color: black;}#sk-container-id-1 div.sk-estimator:hover label.sk-toggleable__label-arrow:before {color: black;}#sk-container-id-1 div.sk-toggleable__content {max-height: 0;max-width: 0;overflow: hidden;text-align: left;background-color: #f0f8ff;}#sk-container-id-1 div.sk-toggleable__content pre {margin: 0.2em;color: black;border-radius: 0.25em;background-color: #f0f8ff;}#sk-container-id-1 input.sk-toggleable__control:checked~div.sk-toggleable__content {max-height: 200px;max-width: 100%;overflow: auto;}#sk-container-id-1 input.sk-toggleable__control:checked~label.sk-toggleable__label-arrow:before {content: \"▾\";}#sk-container-id-1 div.sk-estimator input.sk-toggleable__control:checked~label.sk-toggleable__label {background-color: #d4ebff;}#sk-container-id-1 div.sk-label input.sk-toggleable__control:checked~label.sk-toggleable__label {background-color: #d4ebff;}#sk-container-id-1 input.sk-hidden--visually {border: 0;clip: rect(1px 1px 1px 1px);clip: rect(1px, 1px, 1px, 1px);height: 1px;margin: -1px;overflow: hidden;padding: 0;position: absolute;width: 1px;}#sk-container-id-1 div.sk-estimator {font-family: monospace;background-color: #f0f8ff;border: 1px dotted black;border-radius: 0.25em;box-sizing: border-box;margin-bottom: 0.5em;}#sk-container-id-1 div.sk-estimator:hover {background-color: #d4ebff;}#sk-container-id-1 div.sk-parallel-item::after {content: \"\";width: 100%;border-bottom: 1px solid gray;flex-grow: 1;}#sk-container-id-1 div.sk-label:hover label.sk-toggleable__label {background-color: #d4ebff;}#sk-container-id-1 div.sk-serial::before {content: \"\";position: absolute;border-left: 1px solid gray;box-sizing: border-box;top: 0;bottom: 0;left: 50%;z-index: 0;}#sk-container-id-1 div.sk-serial {display: flex;flex-direction: column;align-items: center;background-color: white;padding-right: 0.2em;padding-left: 0.2em;position: relative;}#sk-container-id-1 div.sk-item {position: relative;z-index: 1;}#sk-container-id-1 div.sk-parallel {display: flex;align-items: stretch;justify-content: center;background-color: white;position: relative;}#sk-container-id-1 div.sk-item::before, #sk-container-id-1 div.sk-parallel-item::before {content: \"\";position: absolute;border-left: 1px solid gray;box-sizing: border-box;top: 0;bottom: 0;left: 50%;z-index: -1;}#sk-container-id-1 div.sk-parallel-item {display: flex;flex-direction: column;z-index: 1;position: relative;background-color: white;}#sk-container-id-1 div.sk-parallel-item:first-child::after {align-self: flex-end;width: 50%;}#sk-container-id-1 div.sk-parallel-item:last-child::after {align-self: flex-start;width: 50%;}#sk-container-id-1 div.sk-parallel-item:only-child::after {width: 0;}#sk-container-id-1 div.sk-dashed-wrapped {border: 1px dashed gray;margin: 0 0.4em 0.5em 0.4em;box-sizing: border-box;padding-bottom: 0.4em;background-color: white;}#sk-container-id-1 div.sk-label label {font-family: monospace;font-weight: bold;display: inline-block;line-height: 1.2em;}#sk-container-id-1 div.sk-label-container {text-align: center;}#sk-container-id-1 div.sk-container {/* jupyter's `normalize.less` sets `[hidden] { display: none; }` but bootstrap.min.css set `[hidden] { display: none !important; }` so we also need the `!important` here to be able to override the default hidden behavior on the sphinx rendered scikit-learn.org. See: https://github.com/scikit-learn/scikit-learn/issues/21755 */display: inline-block !important;position: relative;}#sk-container-id-1 div.sk-text-repr-fallback {display: none;}</style><div id=\"sk-container-id-1\" class=\"sk-top-container\"><div class=\"sk-text-repr-fallback\"><pre>SVC(probability=True)</pre><b>In a Jupyter environment, please rerun this cell to show the HTML representation or trust the notebook. <br />On GitHub, the HTML representation is unable to render, please try loading this page with nbviewer.org.</b></div><div class=\"sk-container\" hidden><div class=\"sk-item\"><div class=\"sk-estimator sk-toggleable\"><input class=\"sk-toggleable__control sk-hidden--visually\" id=\"sk-estimator-id-1\" type=\"checkbox\" checked><label for=\"sk-estimator-id-1\" class=\"sk-toggleable__label sk-toggleable__label-arrow\">SVC</label><div class=\"sk-toggleable__content\"><pre>SVC(probability=True)</pre></div></div></div></div></div>"
      ],
      "text/plain": [
       "SVC(probability=True)"
      ]
     },
     "execution_count": 34,
     "metadata": {},
     "output_type": "execute_result"
    }
   ],
   "source": [
    "svc.fit(x_train, y_train)"
   ]
  },
  {
   "cell_type": "code",
   "execution_count": 35,
   "id": "b131d5c6-9661-4e70-bc4e-70b06a4b1b1f",
   "metadata": {},
   "outputs": [
    {
     "name": "stdout",
     "output_type": "stream",
     "text": [
      "The SVC model with parameters C = 1.0 and kernel = rbf returned an accuracy score of: 0.8794642857142857\n"
     ]
    }
   ],
   "source": [
    "ysvc_pred = svc.predict(x_test)\n",
    "print(\"The SVC model with parameters C = 1.0 and kernel = rbf returned an accuracy score of: \" + str(metrics.accuracy_score(ysvc_pred, y_test)))"
   ]
  },
  {
   "cell_type": "markdown",
   "id": "7ae4c826-2d59-416b-a25a-60cd3c019a43",
   "metadata": {},
   "source": [
    "### Results and Analysis\n",
    "The best k-Nearest Neighbors model returned an accuracy score slightly higher than that of the SVC model (~90% to ~88%, with some variation). However, this is likely due to the hyperparameter tuning and resampling methods included during the genisis of that model. The SVC model, while slightly lower scoring, could not utilize hyperparameter tuning or resampling due to the seemingly never-ending modelling duration. Given better resources or smaller images, and therefore fewer features, the SVC model could be found to produce even higher accuracy scores with different parameters. As to those hyperparameters and resampling methods, the best k-NN model utilized one neighbor and 5 K-Fold splits. I find it interesting that only one neighbor is the most accurate model. The complexity of the model decreases as k increases, so there may be some overfitting of the data. However, the resampling with 5 splits likely counterracts this increase in bias a bit. I had first intended to use this hyperparameter tuning and resampling using sklearn's GridSearchCV, but even with a few values given to C and gamma the code took over 10 minutes to run, and at that point I stopped the kernel. I had allocated extra ram for the cache and attempted a linear svm kernel to no avail. However, finding the best parameters would likely benefit this model significantly. Either way, both models produced strong results. Given low processing power, I would opt to use the k-NN model, but with infinite resources I would tune and use the SVM model."
   ]
  },
  {
   "cell_type": "markdown",
   "id": "93372875-893d-40d1-a39e-6520738d6db2",
   "metadata": {},
   "source": [
    "### Conclusion\n",
    "An easy, if not quick, way to improve on this project would be to include hyperparamater tuning and resampling for the SVM model. This may require stronger computational power, a reformatting of the data to have fewer features, or just more patience. The use of the .png files included in the dataset did not work because, when converted to a numpy array, each pixel entry only had 1 value, whereas the .jpg images, the vast majority, had 3 values, one for each color channel. Because of this, when the arrays were flattened into usable vectors the .png vectors were shorter, and thus could not be compared in the model to the longer arrays created from the .jpg and .jpeg images. Some important takeaways from this project were the use of KFold and the impact that it has on accuracy. Before this project I did not recognize the term, but after searching for a way to improve my project (thank you Maaz), I did research on, and learned to understand, KFold-ing. The use of this technique increased the accuracy of the k-NN model by nearly 20%, a huge jump that I was not expecting, but am grateful for nonetheless."
   ]
  },
  {
   "cell_type": "markdown",
   "id": "d48e94c9-d315-4dd6-96e8-9b99c3644ddf",
   "metadata": {},
   "source": [
    "#### Data Reference\n",
    "Ajayi, Gbeminiyi (2018), “Multi-class Weather Dataset for Image Classification”, Mendeley Data, V1, doi: 10.17632/4drtyfjtfy.1"
   ]
  }
 ],
 "metadata": {
  "kernelspec": {
   "display_name": "Python 3 (ipykernel)",
   "language": "python",
   "name": "python3"
  },
  "language_info": {
   "codemirror_mode": {
    "name": "ipython",
    "version": 3
   },
   "file_extension": ".py",
   "mimetype": "text/x-python",
   "name": "python",
   "nbconvert_exporter": "python",
   "pygments_lexer": "ipython3",
   "version": "3.11.0"
  }
 },
 "nbformat": 4,
 "nbformat_minor": 5
}
